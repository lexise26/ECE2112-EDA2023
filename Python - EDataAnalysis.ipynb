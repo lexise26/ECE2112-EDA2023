{
 "cells": [
  {
   "cell_type": "markdown",
   "id": "72d3512d-1ca0-4c90-9f9d-a8b8bee36bd5",
   "metadata": {},
   "source": [
    "# Python - Exploratory Data Analysis\n"
   ]
  },
  {
   "cell_type": "markdown",
   "id": "17f8c38b-b13a-4f71-acbd-c2f42d0c47fd",
   "metadata": {},
   "source": [
    "Name: Custodio, Louise Angela G.  \n",
    "Section: 2ECE-D  \n",
    "Date and Time Started: October 23, 2024, 10:15 AM  \n",
    "Date and Time Ended: October 30, 2024, 3:08 AM  \n"
   ]
  },
  {
   "cell_type": "markdown",
   "id": "749c3ae6-99e5-49b6-b2fd-b4575b7b6af1",
   "metadata": {},
   "source": [
    "**Exploratory Data Analysis (EDA)** is a process of analyzing and summarizing datasets to identify patterns, trends, and relationships using visual and statistical methods. It helps in understanding the data's structure and guiding further analysis.\n",
    "\n",
    "In this Jupyter Notebook, an Exploratory Data Analysis (EDA) is performed on the **Most Streamed Spotify Songs 2023** dataset, sourced from [Kaggle](https://www.kaggle.com/datasets/nelgiriyewithana/top-spotify-songs-2023). \n",
    "\n",
    "#### Objectives\n",
    "\n",
    "- **Dataset Familiarization:** Explore the structure of the dataset, including data types and missing values.\n",
    "- **Summary Statistics:** Generate descriptive statistics for key metrics such as the number of streams, release years, and musical attributes (e.g., BPM, danceability).\n",
    "- **Data Visualization:** Utilize various visualizations (e.g., bar charts, histograms, scatter plots) to uncover trends and patterns in the data.\n",
    "- **Correlation Analysis:** Examine correlations between different variables and assess how musical characteristics impact stream counts.\n",
    "- **Insights and Recommendations:** Provide insights regarding popular tracks, artists, and potential trends within the music industry."
   ]
  },
  {
   "cell_type": "code",
   "execution_count": null,
   "id": "09885bec-97ae-48a0-9c9d-c6760c32a8db",
   "metadata": {},
   "outputs": [],
   "source": [
    "# Import the Pandas library\n",
    "import pandas as pd"
   ]
  },
  {
   "cell_type": "code",
   "execution_count": null,
   "id": "a5d5e732-857d-4c5e-8a0e-a7de77efec46",
   "metadata": {},
   "outputs": [],
   "source": [
    "# Load the data from the CSV file\n",
    "spotify_data = pd.read_csv('spotify-2023.csv', encoding='ISO-8859-1')\n",
    "\n",
    "# Print or display the results\n",
    "spotify_data"
   ]
  },
  {
   "cell_type": "markdown",
   "id": "81536033-d5d4-4ce7-bda9-ec38fdc08c8b",
   "metadata": {},
   "source": [
    "## Overview of Dataset"
   ]
  },
  {
   "cell_type": "markdown",
   "id": "c4ab24bd-5926-47e3-9e24-c4cd2655d576",
   "metadata": {},
   "source": [
    "#### • How many rows and columns does the dataset contain?\n"
   ]
  },
  {
   "cell_type": "code",
   "execution_count": null,
   "id": "310f1823-50b0-400d-8979-4befe5c255bc",
   "metadata": {},
   "outputs": [],
   "source": [
    "# Get the number of rows and columns by using the .shape function\n",
    "rows, cols = spotify_data.shape\n",
    "\n",
    "# Print the results \n",
    "print('Rows:', rows)\n",
    "print('Columns:', cols)"
   ]
  },
  {
   "cell_type": "markdown",
   "id": "44b09eaf-f1b8-4f88-9aa9-18091d38669f",
   "metadata": {},
   "source": [
    "#### • What are the data types of each column? Are there any missing values?\n"
   ]
  },
  {
   "cell_type": "code",
   "execution_count": null,
   "id": "4ced2830-2f0f-41b6-b428-424d0ae41d56",
   "metadata": {},
   "outputs": [],
   "source": [
    "# Get the data types of each column\n",
    "data_types = spotify_data.dtypes\n",
    "\n",
    "# Print the results\n",
    "print(\"Data Types of Each Column:\")\n",
    "print(data_types)\n",
    "\n",
    "# Check for missing values\n",
    "missing_values = spotify_data.isnull().sum()\n",
    "\n",
    "# Display missing values for columns with missing data\n",
    "print(\"\\nMissing Values in Each Column:\")\n",
    "print(missing_values[missing_values > 0])  "
   ]
  },
  {
   "cell_type": "markdown",
   "id": "7f2af8d7-be44-4743-b323-67a64fdd6362",
   "metadata": {},
   "source": [
    "## Basic Descriptive Statistics\r\n"
   ]
  },
  {
   "cell_type": "markdown",
   "id": "976e5fed-4cd3-43d5-8933-56c050cc3391",
   "metadata": {},
   "source": [
    "#### • What are the mean, median, and standard deviation of the streams column?\n"
   ]
  },
  {
   "cell_type": "code",
   "execution_count": null,
   "id": "bb9bca02-0dff-477b-9690-4241c934ba36",
   "metadata": {},
   "outputs": [],
   "source": [
    "#Convert the streams column to numeric, setting non-numeric values to NaN\n",
    "spotify_data['streams'] = pd.to_numeric(spotify_data['streams'], errors='coerce')\n",
    "\n",
    "#Remove rows with NaN in the streams column\n",
    "spotify_data.dropna(subset=['streams'], inplace=True)\n",
    "\n",
    "#Calculate the mean of the streams column\n",
    "spd_mean = spotify_data['streams'].mean()\n",
    "\n",
    "#Calculate the median of the streams column\n",
    "spd_mid = spotify_data['streams'].median()\n",
    "\n",
    "#Calculate the standard deviation of the streams column\n",
    "spd_sd = spotify_data['streams'].std()\n",
    "\n",
    "#Print the results of the mean, median, and standard deviation\n",
    "print('Mean of the Streams:', spd_mean)\n",
    "print('Median of the Streams:', spd_mid)\n",
    "print('Standard Deviation of the Streams:', spd_sd)"
   ]
  },
  {
   "cell_type": "markdown",
   "id": "3955e0bb-1a31-4f43-bd85-39cdd45b6dc0",
   "metadata": {},
   "source": [
    "#### • What is the distribution of released_year and artist_count? Are there any noticeable trends or outliers?"
   ]
  },
  {
   "cell_type": "code",
   "execution_count": null,
   "id": "0ce958b1-8db0-4fa8-a82e-b388e5c892a4",
   "metadata": {},
   "outputs": [],
   "source": [
    "#Import the Matplot and Seaborn Library\n",
    "import matplotlib.pyplot as plt\n",
    "import seaborn as sns"
   ]
  },
  {
   "cell_type": "code",
   "execution_count": null,
   "id": "8dc51120-c208-4133-b982-41aedf47a2cc",
   "metadata": {},
   "outputs": [],
   "source": [
    "# Set Seaborn style\n",
    "sns.set(style='whitegrid')\n",
    "\n",
    "# Plot distribution of 'released_year'\n",
    "plt.figure(figsize=(14, 6))\n",
    "\n",
    "# Histogram for released_year\n",
    "plt.subplot(1, 2, 1)\n",
    "sns.histplot(spotify_data['released_year'], bins=30, kde=True, color='skyblue')\n",
    "plt.title('Distribution of Released Year')\n",
    "plt.xlabel('Released Year')\n",
    "plt.ylabel('Frequency')\n",
    "\n",
    "# Histogram for artist_count\n",
    "plt.subplot(1, 2, 2)\n",
    "sns.histplot(spotify_data['artist_count'], bins=30, kde=True, color='lightgreen')\n",
    "plt.title('Distribution of Artist Count')\n",
    "plt.xlabel('Artist Count')\n",
    "plt.ylabel('Frequency')\n",
    "\n",
    "plt.tight_layout()\n",
    "plt.show()\n",
    "\n"
   ]
  },
  {
   "cell_type": "markdown",
   "id": "ce156fb5-8429-43cf-b425-aa57a6d00702",
   "metadata": {},
   "source": [
    "##  Top Performers\r\n"
   ]
  },
  {
   "cell_type": "markdown",
   "id": "3994f01b-d08a-4398-acf6-fe6f82d517ef",
   "metadata": {},
   "source": [
    "#### • Which track has the highest number of streams? Display the top 5 most streamed tracks.\n"
   ]
  },
  {
   "cell_type": "code",
   "execution_count": null,
   "id": "e3a55aa9-faa6-4ec6-a50d-a72d9f0f51ae",
   "metadata": {},
   "outputs": [],
   "source": [
    "#Get top 5 tracks by sorting streams in descending order and reset index\n",
    "top_5_tracks = spotify_data.sort_values(by='streams', ascending=False).head(5).reset_index()\n",
    "\n",
    "#Display the result\n",
    "top_5_tracks[['track_name', 'streams']]"
   ]
  },
  {
   "cell_type": "markdown",
   "id": "3004dcca-21aa-4d45-b071-b2b1324ae922",
   "metadata": {},
   "source": [
    "#### • Who are the top 5 most frequent artists based on the number of tracks in the dataset?"
   ]
  },
  {
   "cell_type": "code",
   "execution_count": null,
   "id": "a05e64b3-8453-4e71-8b0b-0a968200b3bc",
   "metadata": {},
   "outputs": [],
   "source": [
    "#Group by the artist(s)_name column and count the occurrences\n",
    "grp = spotify_data['artist(s)_name'].value_counts().head(5).reset_index()\n",
    "\n",
    "#Convert the grouped data into a new DataFrame\n",
    "top_5_freqarts = pd.DataFrame(grp)\n",
    "\n",
    "#Rename columns to make them more descriptive\n",
    "top_5_freqarts = top_5_freqarts.rename(columns={'index': 'artist(s)_name'})\n",
    "\n",
    "#Display the results\n",
    "top_5_freqarts"
   ]
  },
  {
   "cell_type": "markdown",
   "id": "55a34703-f105-4954-80e0-252ec8d4f11c",
   "metadata": {},
   "source": [
    "## Temporal Trends\r\n"
   ]
  },
  {
   "cell_type": "markdown",
   "id": "80123e72-a578-4c81-89c2-7c04fd479eda",
   "metadata": {},
   "source": [
    "• Analyze the trends in the number of tracks released over time. Plot the number of tracks released per year.\n"
   ]
  },
  {
   "cell_type": "code",
   "execution_count": null,
   "id": "64a0388b-fff0-4751-8dfd-0af347e9e173",
   "metadata": {},
   "outputs": [],
   "source": [
    "# Count the number of tracks released each year from the dataset.\n",
    "tracks_per_year = spotify_data['released_year'].value_counts().reset_index()\n",
    "\n",
    "# Create a new DataFrame with columns for released year and track count.\n",
    "tracks_per_year.columns = ['released_year', 'track_count']\n",
    "\n",
    "# Sort the DataFrame by released year\n",
    "tracks_per_year = tracks_per_year.sort_values(by='released_year')\n",
    "\n",
    "# Set up a figure for plotting\n",
    "plt.figure(figsize=(12, 6))\n",
    "\n",
    "# Create a bar plot to visualize the number of tracks per year\n",
    "sns.barplot(data=tracks_per_year, x='released_year', y='track_count', color='gold')\n",
    "\n",
    "# Add title and labels to the plot\n",
    "plt.title('Number of Tracks Released per Year')\n",
    "plt.xlabel('Released Year')\n",
    "plt.ylabel('Number of Tracks')\n",
    "\n",
    "# Rotate x-axis labels for better readability\n",
    "plt.xticks(rotation=45) \n",
    "plt.grid(axis='y')\n",
    "\n",
    "# Display the plot\n",
    "plt.tight_layout()\n",
    "plt.show()"
   ]
  },
  {
   "cell_type": "markdown",
   "id": "2d9a8708-c4b7-4f9f-b0b2-fc41b52d8518",
   "metadata": {},
   "source": [
    "• Does the number of tracks released per month follow any noticeable patterns? Which month sees the most releases?\n"
   ]
  },
  {
   "cell_type": "code",
   "execution_count": null,
   "id": "e62759c6-d50d-4d34-a632-d89b90b9f25c",
   "metadata": {},
   "outputs": [],
   "source": [
    "# Convert the column to string type\n",
    "spotify_data['released_month'] = spotify_data['released_month'].astype(str)\n",
    "\n",
    "# Count the number of tracks released per month\n",
    "tracks_per_month = spotify_data['released_month'].value_counts().sort_index()\n",
    "\n",
    "# Convert month strings to integers and sort them\n",
    "month_mapping = {str(i): i for i in range(0, 13)}\n",
    "tracks_per_month.index = tracks_per_month.index.map(month_mapping)\n",
    "\n",
    "# Sort by month\n",
    "tracks_per_month = tracks_per_month.sort_index()\n",
    "\n",
    "# Plotting the trends\n",
    "plt.figure(figsize=(12, 5))\n",
    "sns.barplot(x=tracks_per_month.index, y=tracks_per_month.values, color='LightBlue')\n",
    "plt.title('Number of Tracks Released Per Month')\n",
    "plt.xlabel('Month')\n",
    "plt.ylabel('Number of Tracks Released')\n",
    "plt.xticks(ticks=range(0, 12), labels=['Jan', 'Feb', 'Mar', 'Apr', 'May', 'Jun', 'Jul', 'Aug', 'Sep', 'Oct', 'Nov', 'Dec'])\n",
    "plt.grid(axis='y')\n",
    "plt.tight_layout()\n",
    "plt.show()\n",
    "\n",
    "# Month names list\n",
    "month_names = ['Jan', 'Feb', 'Mar', 'Apr', 'May', 'Jun', 'Jul', 'Aug', 'Sep', 'Oct', 'Nov', 'Dec']\n",
    "\n",
    "# Get the month index with max releases\n",
    "most_releases_month = tracks_per_month.idxmax()  \n",
    "\n",
    "# Get the count of max releases\n",
    "most_releases_count = tracks_per_month.max()  \n",
    "\n",
    "# Print the month with the most releases\n",
    "print('Month with the most releases:', month_names[most_releases_month - 1], '(', most_releases_count, 'tracks)')\n"
   ]
  },
  {
   "cell_type": "markdown",
   "id": "94c8927a-3628-4114-a646-cdcf1567fa12",
   "metadata": {},
   "source": [
    "## Genre and Music Characteristics"
   ]
  },
  {
   "cell_type": "markdown",
   "id": "b9c22a8d-26a8-4915-a05b-ee2b787ed286",
   "metadata": {},
   "source": [
    "• Examine the correlation between streams and musical attributes like bpm, danceability_%, and energy_%. Which attributes seem to influence streams the most?"
   ]
  },
  {
   "cell_type": "code",
   "execution_count": null,
   "id": "72401184-1ea8-48b8-8432-0b7f7e7fd13f",
   "metadata": {},
   "outputs": [],
   "source": [
    "# Specify the attributes for correlation analysis\n",
    "attributes = ['streams', 'bpm', 'danceability_%', 'energy_%']\n",
    "correlation_data = spotify_data[attributes].corr()\n",
    "\n",
    "# Display correlation of streams with each attribute\n",
    "print(\"Correlation of streams with each attribute:\")\n",
    "print(correlation_data['streams'].sort_values(ascending=False))\n",
    "\n",
    "# Set up the figure size \n",
    "plt.figure(figsize=(18, 5))\n",
    "\n",
    "# Scatter plot for BPM vs Streams\n",
    "plt.subplot(1, 3, 1)\n",
    "sns.scatterplot(data=correlation_data, x='bpm', y='streams', color='purple')\n",
    "plt.title('Correlation between BPM and Streams')\n",
    "plt.xlabel('BPM (Beats Per Minute)')\n",
    "plt.ylabel('Streams')\n",
    "\n",
    "# Scatter plot for Danceability vs Streams\n",
    "plt.subplot(1, 3, 2)\n",
    "sns.scatterplot(data=correlation_data, x='danceability_%', y='streams', color='red')\n",
    "plt.title('Correlation between Danceability and Streams')\n",
    "plt.xlabel('Danceability (%)')\n",
    "plt.ylabel('Streams')\n",
    "\n",
    "# Scatter plot for Energy vs Streams\n",
    "plt.subplot(1, 3, 3)\n",
    "sns.scatterplot(data=correlation_data, x='energy_%', y='streams', color='orange')\n",
    "plt.title('Correlation between Energy and Streams')\n",
    "plt.xlabel('Energy (%)')\n",
    "plt.ylabel('Streams')\n",
    "\n",
    "# Adjust layout for better visualization\n",
    "plt.tight_layout()\n",
    "\n",
    "# Display the results of plots\n",
    "plt.show()"
   ]
  },
  {
   "cell_type": "markdown",
   "id": "de56fe14-5c7f-4500-9dcb-6444587815d9",
   "metadata": {},
   "source": [
    "• Is there a correlation between danceability_% and energy_%? How about valence_% and acousticness_%?\n"
   ]
  },
  {
   "cell_type": "code",
   "execution_count": null,
   "id": "085ee3c7-f7af-45fa-bdfc-bfe5b51d7a42",
   "metadata": {},
   "outputs": [],
   "source": [
    "# Define the attributes of interest for correlation analysis\n",
    "attributes = ['danceability_%', 'energy_%', 'valence_%', 'acousticness_%']\n",
    "\n",
    "# Calculate the correlation matrix for the selected attributes\n",
    "correlation_matrix = spotify_data[attributes].corr()\n",
    "\n",
    "# Display correlations between the specific pairs\n",
    "print(\"Correlation between danceability_% and energy_%:\")\n",
    "print(correlation_matrix.loc['danceability_%', 'energy_%'])\n",
    "\n",
    "print(\"Correlation between valence_% and acousticness_%:\")\n",
    "print(correlation_matrix.loc['valence_%', 'acousticness_%'])\n",
    "\n",
    "# Set Seaborn as sns with the style of whitegrid\n",
    "sns.set(style='whitegrid')\n",
    "\n",
    "# Create a figure with subplots\n",
    "plt.figure(figsize=(12, 6))\n",
    "\n",
    "# Scatter plot for danceability_% and energy_%\n",
    "plt.subplot(1, 2, 1)\n",
    "sns.scatterplot(data=spotify_data, x='danceability_%', y='energy_%', alpha=0.7)\n",
    "plt.title('Danceability vs Energy')\n",
    "plt.xlabel('Danceability (%)')\n",
    "plt.ylabel('Energy (%)')\n",
    "\n",
    "# Scatter plot for valence_% and acousticness_%\n",
    "plt.subplot(1, 2, 2)\n",
    "sns.scatterplot(data=spotify_data, x='valence_%', y='acousticness_%', alpha=0.7)\n",
    "plt.title('Valence vs Acousticness')\n",
    "plt.xlabel('Valence (%)')\n",
    "plt.ylabel('Acousticness (%)')\n",
    "\n",
    "# Show the plots\n",
    "plt.tight_layout()\n",
    "plt.show()"
   ]
  },
  {
   "cell_type": "markdown",
   "id": "01f35700-8e61-4442-82c8-99661cb66d89",
   "metadata": {},
   "source": [
    "## Platform Popularity\r",
    "\r\n"
   ]
  },
  {
   "cell_type": "markdown",
   "id": "fe3e9fd7-c31c-413e-93e2-851842300785",
   "metadata": {},
   "source": [
    "• How do the numbers of tracks in spotify_playlists, spotify_charts, and apple_playlists compare? Which platform seems to favor the most popular tracks?\n"
   ]
  },
  {
   "cell_type": "code",
   "execution_count": null,
   "id": "99b53cbc-2298-488b-9ed3-dbcca9cfb051",
   "metadata": {},
   "outputs": [],
   "source": [
    "# Convert columns to numeric, coercing errors to NaN and filling NaN with 0 if needed\n",
    "spotify_data['in_spotify_playlists'] = pd.to_numeric(spotify_data['in_spotify_playlists'], errors='coerce').fillna(0)\n",
    "spotify_data['in_deezer_playlists'] = pd.to_numeric(spotify_data['in_deezer_playlists'], errors='coerce').fillna(0)\n",
    "spotify_data['in_apple_playlists'] = pd.to_numeric(spotify_data['in_apple_playlists'], errors='coerce').fillna(0)\n",
    "\n",
    "# Sum the columns\n",
    "spotify_playlists = spotify_data['in_spotify_playlists'].sum()\n",
    "deezer_playlists = spotify_data['in_deezer_playlists'].sum()\n",
    "apple_playlists = spotify_data['in_apple_playlists'].sum()\n",
    "\n",
    "# Print track counts for each platform\n",
    "print(\"Spotify Playlists Track Count:\", spotify_playlists)\n",
    "print(\"Deezer Playlists Track Count:\", deezer_playlists)\n",
    "print(\"Apple Playlists Track Count:\", apple_playlists)\n",
    "\n",
    "# Determine and print the platform with the highest track count\n",
    "if spotify_playlists > deezer_playlists and spotify_playlists > apple_playlists:\n",
    "    most_favored_platform = \"Spotify Playlists\"\n",
    "elif deezer_playlists > apple_playlists:\n",
    "    most_favored_platform = \"Deezer Playlists\"\n",
    "else:\n",
    "    most_favored_platform = \"Apple Playlists\"\n",
    "\n",
    "# Print the results of the most popular tracks\n",
    "print(\"\\nPlatform with the most popular tracks:\", most_favored_platform)"
   ]
  },
  {
   "cell_type": "markdown",
   "id": "1f5bf78d-3676-491c-9447-cc9fd259f7dc",
   "metadata": {},
   "source": [
    "## Advanced Analysis\r\n",
    "\r\n"
   ]
  },
  {
   "cell_type": "markdown",
   "id": "f1f74abb-4ed2-4b16-b5ea-10b43f9b267f",
   "metadata": {},
   "source": [
    "• Based on the streams data, can you identify any patterns among tracks with the same key or mode (Major vs. Minor)?\n"
   ]
  },
  {
   "cell_type": "code",
   "execution_count": null,
   "id": "8a32aebf-ac48-4bce-b45d-db0afe1f8ab6",
   "metadata": {},
   "outputs": [],
   "source": [
    "# Set the figure size for the plot\n",
    "plt.figure(figsize=(12, 6))\n",
    "\n",
    "# Create a box plot to show the distribution of streams by key and mode\n",
    "sns.boxplot(data=spotify_data, x='key', y='streams', hue='mode', palette='Set3')\n",
    "\n",
    "# Set the title of the plot\n",
    "plt.title('Distribution of Streams by Key and Mode (Major vs. Minor)')\n",
    "\n",
    "# Label the x and y axes\n",
    "plt.xlabel('Key')\n",
    "plt.ylabel('Streams')\n",
    "\n",
    "# Rotate x-axis labels for better readability\n",
    "plt.xticks(rotation=45) \n",
    "\n",
    "# Add a legend with title for the hue variable (mode)\n",
    "plt.legend(title='Mode')\n",
    "\n",
    "# Enable grid lines on the y-axis \n",
    "plt.grid(axis='y')\n",
    "\n",
    "# Adjust layout to prevent overlap \n",
    "plt.tight_layout()\n",
    "\n",
    "# Display the plot\n",
    "plt.show()"
   ]
  },
  {
   "cell_type": "markdown",
   "id": "77fc66ee-bcad-4918-b2f5-82a99fb52fb4",
   "metadata": {},
   "source": [
    "• Do certain genres or artists consistently appear in more playlists or charts? Perform an analysis to compare the most frequently appearing artists in playlists or charts."
   ]
  },
  {
   "cell_type": "code",
   "execution_count": null,
   "id": "4e920e39-7fbb-4beb-b122-5763941270ba",
   "metadata": {},
   "outputs": [],
   "source": [
    "# Count the occurrences of each artist in the dataset\n",
    "artist_counts = spotify_data['artist(s)_name'].value_counts().reset_index()\n",
    "\n",
    "# Rename the columns\n",
    "artist_counts.columns = ['artist(s)_name', 'appearance_count']\n",
    "\n",
    "# Set the figure size for the plot\n",
    "plt.figure(figsize=(12, 6))\n",
    "\n",
    "# Create a bar plot for the top 10 artists by appearance count\n",
    "sns.barplot(data=artist_counts.head(10), x='appearance_count', y='artist(s)_name', hue='artist(s)_name', palette='pastel', legend=False)\n",
    "\n",
    "# Set the title of the plot\n",
    "plt.title('Top 10 Artists by Appearance Count in Playlists/Charts')\n",
    "\n",
    "# Label the x and y axes\n",
    "plt.xlabel('Number of Appearances')\n",
    "plt.ylabel('Artist(s) Name')\n",
    "\n",
    "# Enable grid lines on the x-axis \n",
    "plt.grid(axis='x')\n",
    "\n",
    "# Adjust layout to enhance the plot's appearance\n",
    "plt.tight_layout()\n",
    "\n",
    "# Display the results\n",
    "plt.show()"
   ]
  }
 ],
 "metadata": {
  "kernelspec": {
   "display_name": "Python 3 (ipykernel)",
   "language": "python",
   "name": "python3"
  },
  "language_info": {
   "codemirror_mode": {
    "name": "ipython",
    "version": 3
   },
   "file_extension": ".py",
   "mimetype": "text/x-python",
   "name": "python",
   "nbconvert_exporter": "python",
   "pygments_lexer": "ipython3",
   "version": "3.12.4"
  }
 },
 "nbformat": 4,
 "nbformat_minor": 5
}
